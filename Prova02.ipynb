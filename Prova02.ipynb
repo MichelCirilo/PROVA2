{
 "cells": [
  {
   "cell_type": "code",
   "execution_count": 2,
   "id": "5a66d638-7d25-4d56-9729-3e3d7b5f58de",
   "metadata": {},
   "outputs": [],
   "source": [
    "def selection_sort(arr):\n",
    "    for i in range(len(arr)):\n",
    "        min_idx = i\n",
    "        for j in range(i + 1, len(arr)):\n",
    "            if arr[j] < arr[min_idx]:\n",
    "                min_idx = j\n",
    "        arr[i], arr[min_idx] = arr[min_idx], arr[i]\n",
    "    return arr\n",
    "    "
   ]
  },
  {
   "cell_type": "code",
   "execution_count": 2,
   "id": "99b5432f-7afd-4bc2-955c-657fd463f8db",
   "metadata": {},
   "outputs": [],
   "source": [
    "lista = [29,10,14,37,12]"
   ]
  },
  {
   "cell_type": "code",
   "execution_count": 4,
   "id": "d36f3bb0-5297-410c-a4d7-a436e4020b66",
   "metadata": {},
   "outputs": [
    {
     "name": "stdout",
     "output_type": "stream",
     "text": [
      "Lista original: [29, 10, 14, 37, 12]\n",
      "Lista ordenada: [10, 12, 14, 29, 37]\n"
     ]
    }
   ],
   "source": [
    "print(\"Lista original:\", lista)\n",
    "print(\"Lista ordenada:\", selection_sort(lista))"
   ]
  },
  {
   "cell_type": "code",
   "execution_count": 14,
   "id": "6c3b8975-bee1-471b-b3b9-0b371ac0c569",
   "metadata": {},
   "outputs": [],
   "source": [
    "def find_max(self):\n",
    "    return self.pop()\n",
    "    "
   ]
  },
  {
   "cell_type": "code",
   "execution_count": 15,
   "id": "1a733e30-b783-4384-a434-1584929aa4bb",
   "metadata": {},
   "outputs": [
    {
     "name": "stdout",
     "output_type": "stream",
     "text": [
      "Maior elemento: 37\n"
     ]
    }
   ],
   "source": [
    "print(\"Maior elemento:\", find_max(lista))"
   ]
  },
  {
   "cell_type": "code",
   "execution_count": null,
   "id": "ccb86954-37ca-4c7e-8288-3c52a283b1ca",
   "metadata": {},
   "outputs": [],
   "source": []
  }
 ],
 "metadata": {
  "kernelspec": {
   "display_name": "Python 3 (ipykernel)",
   "language": "python",
   "name": "python3"
  },
  "language_info": {
   "codemirror_mode": {
    "name": "ipython",
    "version": 3
   },
   "file_extension": ".py",
   "mimetype": "text/x-python",
   "name": "python",
   "nbconvert_exporter": "python",
   "pygments_lexer": "ipython3",
   "version": "3.12.4"
  }
 },
 "nbformat": 4,
 "nbformat_minor": 5
}
